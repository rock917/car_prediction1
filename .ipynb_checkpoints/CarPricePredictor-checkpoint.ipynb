{
 "cells": [
  {
   "cell_type": "code",
   "execution_count": 1,
   "id": "a9256205-ad94-4924-90a5-ca2241d800ea",
   "metadata": {},
   "outputs": [
    {
     "name": "stdout",
     "output_type": "stream",
     "text": [
      "                       name  year  selling_price  km_driven    fuel  \\\n",
      "0             Maruti 800 AC  2007          60000      70000  Petrol   \n",
      "1  Maruti Wagon R LXI Minor  2007         135000      50000  Petrol   \n",
      "2      Hyundai Verna 1.6 SX  2012         600000     100000  Diesel   \n",
      "3    Datsun RediGO T Option  2017         250000      46000  Petrol   \n",
      "4     Honda Amaze VX i-DTEC  2014         450000     141000  Diesel   \n",
      "\n",
      "  seller_type transmission         owner  \n",
      "0  Individual       Manual   First Owner  \n",
      "1  Individual       Manual   First Owner  \n",
      "2  Individual       Manual   First Owner  \n",
      "3  Individual       Manual   First Owner  \n",
      "4  Individual       Manual  Second Owner  \n",
      "<class 'pandas.core.frame.DataFrame'>\n",
      "RangeIndex: 4340 entries, 0 to 4339\n",
      "Data columns (total 8 columns):\n",
      " #   Column         Non-Null Count  Dtype \n",
      "---  ------         --------------  ----- \n",
      " 0   name           4340 non-null   object\n",
      " 1   year           4340 non-null   int64 \n",
      " 2   selling_price  4340 non-null   int64 \n",
      " 3   km_driven      4340 non-null   int64 \n",
      " 4   fuel           4340 non-null   object\n",
      " 5   seller_type    4340 non-null   object\n",
      " 6   transmission   4340 non-null   object\n",
      " 7   owner          4340 non-null   object\n",
      "dtypes: int64(3), object(5)\n",
      "memory usage: 271.4+ KB\n",
      "missing data None\n"
     ]
    }
   ],
   "source": [
    "import numpy as np\n",
    "import pandas as pd\n",
    "data = pd.read_csv('useddata.csv')\n",
    "print(data.head())\n",
    "print(f\"missing data {data.info()}\")"
   ]
  },
  {
   "cell_type": "markdown",
   "id": "6a9115f3-aee2-490f-981d-b1637da9e43a",
   "metadata": {},
   "source": [
    "There is no missing data in any column. we got non-null count equal to number of rows for all columns. Now I thought its better to add an age column which is really important for the price of used cars"
   ]
  },
  {
   "cell_type": "code",
   "execution_count": 3,
   "id": "0c1e0eca-f95d-41ca-b5fb-99292ce94534",
   "metadata": {},
   "outputs": [
    {
     "name": "stdout",
     "output_type": "stream",
     "text": [
      "                               name  year  selling_price  km_driven    fuel  \\\n",
      "0                     Maruti 800 AC  2007          60000      70000  Petrol   \n",
      "1          Maruti Wagon R LXI Minor  2007         135000      50000  Petrol   \n",
      "2              Hyundai Verna 1.6 SX  2012         600000     100000  Diesel   \n",
      "3            Datsun RediGO T Option  2017         250000      46000  Petrol   \n",
      "4             Honda Amaze VX i-DTEC  2014         450000     141000  Diesel   \n",
      "5              Maruti Alto LX BSIII  2007         140000     125000  Petrol   \n",
      "6         Hyundai Xcent 1.2 Kappa S  2016         550000      25000  Petrol   \n",
      "7          Tata Indigo Grand Petrol  2014         240000      60000  Petrol   \n",
      "8          Hyundai Creta 1.6 VTVT S  2015         850000      25000  Petrol   \n",
      "9          Maruti Celerio Green VXI  2017         365000      78000     CNG   \n",
      "10          Chevrolet Sail 1.2 Base  2015         260000      35000  Petrol   \n",
      "11         Tata Indigo Grand Petrol  2014         250000     100000  Petrol   \n",
      "12  Toyota Corolla Altis 1.8 VL CVT  2018        1650000      25000  Petrol   \n",
      "13                    Maruti 800 AC  2007          60000      70000  Petrol   \n",
      "14         Maruti Wagon R LXI Minor  2007         135000      50000  Petrol   \n",
      "15             Hyundai Verna 1.6 SX  2012         600000     100000  Diesel   \n",
      "16           Datsun RediGO T Option  2017         250000      46000  Petrol   \n",
      "17            Honda Amaze VX i-DTEC  2014         450000     141000  Diesel   \n",
      "18             Maruti Alto LX BSIII  2007         140000     125000  Petrol   \n",
      "19        Hyundai Xcent 1.2 Kappa S  2016         550000      25000  Petrol   \n",
      "\n",
      "   seller_type transmission         owner  age  \n",
      "0   Individual       Manual   First Owner   18  \n",
      "1   Individual       Manual   First Owner   18  \n",
      "2   Individual       Manual   First Owner   13  \n",
      "3   Individual       Manual   First Owner    8  \n",
      "4   Individual       Manual  Second Owner   11  \n",
      "5   Individual       Manual   First Owner   18  \n",
      "6   Individual       Manual   First Owner    9  \n",
      "7   Individual       Manual  Second Owner   11  \n",
      "8   Individual       Manual   First Owner   10  \n",
      "9   Individual       Manual   First Owner    8  \n",
      "10  Individual       Manual   First Owner   10  \n",
      "11  Individual       Manual   First Owner   11  \n",
      "12      Dealer    Automatic   First Owner    7  \n",
      "13  Individual       Manual   First Owner   18  \n",
      "14  Individual       Manual   First Owner   18  \n",
      "15  Individual       Manual   First Owner   13  \n",
      "16  Individual       Manual   First Owner    8  \n",
      "17  Individual       Manual  Second Owner   11  \n",
      "18  Individual       Manual   First Owner   18  \n",
      "19  Individual       Manual   First Owner    9  \n"
     ]
    }
   ],
   "source": [
    "data['age']=2025-data['year']\n",
    "print(data.iloc[:20,:])"
   ]
  },
  {
   "cell_type": "code",
   "execution_count": 4,
   "id": "12c15a00-4e8c-4823-a2d5-b2f0c0b313ad",
   "metadata": {},
   "outputs": [
    {
     "name": "stdout",
     "output_type": "stream",
     "text": [
      "['name', 'year', 'selling_price', 'km_driven', 'fuel', 'seller_type', 'transmission', 'owner', 'age']\n"
     ]
    }
   ],
   "source": [
    "print(data.columns.tolist())"
   ]
  },
  {
   "cell_type": "code",
   "execution_count": 234,
   "id": "0a8e1f16-e2df-4da7-9161-8f8180166e71",
   "metadata": {},
   "outputs": [],
   "source": [
    "data=data.drop(['year'],axis=1)\n",
    "data['company']=data['name'].apply(lambda x: x.split(' ')[0])\n",
    "data=data.drop(['name'], axis=1)"
   ]
  },
  {
   "cell_type": "code",
   "execution_count": 235,
   "id": "e67ee558-6203-42db-a4cb-18e05d056b93",
   "metadata": {},
   "outputs": [
    {
     "name": "stdout",
     "output_type": "stream",
     "text": [
      "Data after one-hot encoding:\n"
     ]
    },
    {
     "data": {
      "text/html": [
       "<div>\n",
       "<style scoped>\n",
       "    .dataframe tbody tr th:only-of-type {\n",
       "        vertical-align: middle;\n",
       "    }\n",
       "\n",
       "    .dataframe tbody tr th {\n",
       "        vertical-align: top;\n",
       "    }\n",
       "\n",
       "    .dataframe thead th {\n",
       "        text-align: right;\n",
       "    }\n",
       "</style>\n",
       "<table border=\"1\" class=\"dataframe\">\n",
       "  <thead>\n",
       "    <tr style=\"text-align: right;\">\n",
       "      <th></th>\n",
       "      <th>selling_price</th>\n",
       "      <th>km_driven</th>\n",
       "      <th>age</th>\n",
       "      <th>fuel_Diesel</th>\n",
       "      <th>fuel_Electric</th>\n",
       "      <th>fuel_LPG</th>\n",
       "      <th>fuel_Petrol</th>\n",
       "      <th>seller_type_Individual</th>\n",
       "      <th>seller_type_Trustmark Dealer</th>\n",
       "      <th>transmission_Manual</th>\n",
       "      <th>...</th>\n",
       "      <th>company_Mercedes-Benz</th>\n",
       "      <th>company_Mitsubishi</th>\n",
       "      <th>company_Nissan</th>\n",
       "      <th>company_OpelCorsa</th>\n",
       "      <th>company_Renault</th>\n",
       "      <th>company_Skoda</th>\n",
       "      <th>company_Tata</th>\n",
       "      <th>company_Toyota</th>\n",
       "      <th>company_Volkswagen</th>\n",
       "      <th>company_Volvo</th>\n",
       "    </tr>\n",
       "  </thead>\n",
       "  <tbody>\n",
       "    <tr>\n",
       "      <th>0</th>\n",
       "      <td>60000</td>\n",
       "      <td>70000</td>\n",
       "      <td>18</td>\n",
       "      <td>False</td>\n",
       "      <td>False</td>\n",
       "      <td>False</td>\n",
       "      <td>True</td>\n",
       "      <td>True</td>\n",
       "      <td>False</td>\n",
       "      <td>True</td>\n",
       "      <td>...</td>\n",
       "      <td>False</td>\n",
       "      <td>False</td>\n",
       "      <td>False</td>\n",
       "      <td>False</td>\n",
       "      <td>False</td>\n",
       "      <td>False</td>\n",
       "      <td>False</td>\n",
       "      <td>False</td>\n",
       "      <td>False</td>\n",
       "      <td>False</td>\n",
       "    </tr>\n",
       "    <tr>\n",
       "      <th>1</th>\n",
       "      <td>135000</td>\n",
       "      <td>50000</td>\n",
       "      <td>18</td>\n",
       "      <td>False</td>\n",
       "      <td>False</td>\n",
       "      <td>False</td>\n",
       "      <td>True</td>\n",
       "      <td>True</td>\n",
       "      <td>False</td>\n",
       "      <td>True</td>\n",
       "      <td>...</td>\n",
       "      <td>False</td>\n",
       "      <td>False</td>\n",
       "      <td>False</td>\n",
       "      <td>False</td>\n",
       "      <td>False</td>\n",
       "      <td>False</td>\n",
       "      <td>False</td>\n",
       "      <td>False</td>\n",
       "      <td>False</td>\n",
       "      <td>False</td>\n",
       "    </tr>\n",
       "    <tr>\n",
       "      <th>2</th>\n",
       "      <td>600000</td>\n",
       "      <td>100000</td>\n",
       "      <td>13</td>\n",
       "      <td>True</td>\n",
       "      <td>False</td>\n",
       "      <td>False</td>\n",
       "      <td>False</td>\n",
       "      <td>True</td>\n",
       "      <td>False</td>\n",
       "      <td>True</td>\n",
       "      <td>...</td>\n",
       "      <td>False</td>\n",
       "      <td>False</td>\n",
       "      <td>False</td>\n",
       "      <td>False</td>\n",
       "      <td>False</td>\n",
       "      <td>False</td>\n",
       "      <td>False</td>\n",
       "      <td>False</td>\n",
       "      <td>False</td>\n",
       "      <td>False</td>\n",
       "    </tr>\n",
       "    <tr>\n",
       "      <th>3</th>\n",
       "      <td>250000</td>\n",
       "      <td>46000</td>\n",
       "      <td>8</td>\n",
       "      <td>False</td>\n",
       "      <td>False</td>\n",
       "      <td>False</td>\n",
       "      <td>True</td>\n",
       "      <td>True</td>\n",
       "      <td>False</td>\n",
       "      <td>True</td>\n",
       "      <td>...</td>\n",
       "      <td>False</td>\n",
       "      <td>False</td>\n",
       "      <td>False</td>\n",
       "      <td>False</td>\n",
       "      <td>False</td>\n",
       "      <td>False</td>\n",
       "      <td>False</td>\n",
       "      <td>False</td>\n",
       "      <td>False</td>\n",
       "      <td>False</td>\n",
       "    </tr>\n",
       "    <tr>\n",
       "      <th>4</th>\n",
       "      <td>450000</td>\n",
       "      <td>141000</td>\n",
       "      <td>11</td>\n",
       "      <td>True</td>\n",
       "      <td>False</td>\n",
       "      <td>False</td>\n",
       "      <td>False</td>\n",
       "      <td>True</td>\n",
       "      <td>False</td>\n",
       "      <td>True</td>\n",
       "      <td>...</td>\n",
       "      <td>False</td>\n",
       "      <td>False</td>\n",
       "      <td>False</td>\n",
       "      <td>False</td>\n",
       "      <td>False</td>\n",
       "      <td>False</td>\n",
       "      <td>False</td>\n",
       "      <td>False</td>\n",
       "      <td>False</td>\n",
       "      <td>False</td>\n",
       "    </tr>\n",
       "  </tbody>\n",
       "</table>\n",
       "<p>5 rows × 42 columns</p>\n",
       "</div>"
      ],
      "text/plain": [
       "   selling_price  km_driven  age  fuel_Diesel  fuel_Electric  fuel_LPG  \\\n",
       "0          60000      70000   18        False          False     False   \n",
       "1         135000      50000   18        False          False     False   \n",
       "2         600000     100000   13         True          False     False   \n",
       "3         250000      46000    8        False          False     False   \n",
       "4         450000     141000   11         True          False     False   \n",
       "\n",
       "   fuel_Petrol  seller_type_Individual  seller_type_Trustmark Dealer  \\\n",
       "0         True                    True                         False   \n",
       "1         True                    True                         False   \n",
       "2        False                    True                         False   \n",
       "3         True                    True                         False   \n",
       "4        False                    True                         False   \n",
       "\n",
       "   transmission_Manual  ...  company_Mercedes-Benz  company_Mitsubishi  \\\n",
       "0                 True  ...                  False               False   \n",
       "1                 True  ...                  False               False   \n",
       "2                 True  ...                  False               False   \n",
       "3                 True  ...                  False               False   \n",
       "4                 True  ...                  False               False   \n",
       "\n",
       "   company_Nissan  company_OpelCorsa  company_Renault  company_Skoda  \\\n",
       "0           False              False            False          False   \n",
       "1           False              False            False          False   \n",
       "2           False              False            False          False   \n",
       "3           False              False            False          False   \n",
       "4           False              False            False          False   \n",
       "\n",
       "   company_Tata  company_Toyota  company_Volkswagen  company_Volvo  \n",
       "0         False           False               False          False  \n",
       "1         False           False               False          False  \n",
       "2         False           False               False          False  \n",
       "3         False           False               False          False  \n",
       "4         False           False               False          False  \n",
       "\n",
       "[5 rows x 42 columns]"
      ]
     },
     "execution_count": 235,
     "metadata": {},
     "output_type": "execute_result"
    }
   ],
   "source": [
    "data = pd.get_dummies(data, columns=['fuel', 'seller_type', 'transmission', 'owner','company'], drop_first=True)\n",
    "\n",
    "print(\"Data after one-hot encoding:\")\n",
    "data.head()"
   ]
  },
  {
   "cell_type": "code",
   "execution_count": 236,
   "id": "1f85eae6-7bb8-49fa-9238-400bbea065a3",
   "metadata": {},
   "outputs": [
    {
     "name": "stdout",
     "output_type": "stream",
     "text": [
      "<class 'pandas.core.frame.DataFrame'>\n",
      "RangeIndex: 4340 entries, 0 to 4339\n",
      "Data columns (total 42 columns):\n",
      " #   Column                        Non-Null Count  Dtype\n",
      "---  ------                        --------------  -----\n",
      " 0   selling_price                 4340 non-null   int64\n",
      " 1   km_driven                     4340 non-null   int64\n",
      " 2   age                           4340 non-null   int64\n",
      " 3   fuel_Diesel                   4340 non-null   bool \n",
      " 4   fuel_Electric                 4340 non-null   bool \n",
      " 5   fuel_LPG                      4340 non-null   bool \n",
      " 6   fuel_Petrol                   4340 non-null   bool \n",
      " 7   seller_type_Individual        4340 non-null   bool \n",
      " 8   seller_type_Trustmark Dealer  4340 non-null   bool \n",
      " 9   transmission_Manual           4340 non-null   bool \n",
      " 10  owner_Fourth & Above Owner    4340 non-null   bool \n",
      " 11  owner_Second Owner            4340 non-null   bool \n",
      " 12  owner_Test Drive Car          4340 non-null   bool \n",
      " 13  owner_Third Owner             4340 non-null   bool \n",
      " 14  company_Audi                  4340 non-null   bool \n",
      " 15  company_BMW                   4340 non-null   bool \n",
      " 16  company_Chevrolet             4340 non-null   bool \n",
      " 17  company_Daewoo                4340 non-null   bool \n",
      " 18  company_Datsun                4340 non-null   bool \n",
      " 19  company_Fiat                  4340 non-null   bool \n",
      " 20  company_Force                 4340 non-null   bool \n",
      " 21  company_Ford                  4340 non-null   bool \n",
      " 22  company_Honda                 4340 non-null   bool \n",
      " 23  company_Hyundai               4340 non-null   bool \n",
      " 24  company_Isuzu                 4340 non-null   bool \n",
      " 25  company_Jaguar                4340 non-null   bool \n",
      " 26  company_Jeep                  4340 non-null   bool \n",
      " 27  company_Kia                   4340 non-null   bool \n",
      " 28  company_Land                  4340 non-null   bool \n",
      " 29  company_MG                    4340 non-null   bool \n",
      " 30  company_Mahindra              4340 non-null   bool \n",
      " 31  company_Maruti                4340 non-null   bool \n",
      " 32  company_Mercedes-Benz         4340 non-null   bool \n",
      " 33  company_Mitsubishi            4340 non-null   bool \n",
      " 34  company_Nissan                4340 non-null   bool \n",
      " 35  company_OpelCorsa             4340 non-null   bool \n",
      " 36  company_Renault               4340 non-null   bool \n",
      " 37  company_Skoda                 4340 non-null   bool \n",
      " 38  company_Tata                  4340 non-null   bool \n",
      " 39  company_Toyota                4340 non-null   bool \n",
      " 40  company_Volkswagen            4340 non-null   bool \n",
      " 41  company_Volvo                 4340 non-null   bool \n",
      "dtypes: bool(39), int64(3)\n",
      "memory usage: 267.1 KB\n"
     ]
    }
   ],
   "source": [
    "data.info()"
   ]
  },
  {
   "cell_type": "code",
   "execution_count": 237,
   "id": "f9ccf400-7aa0-4298-922e-8ca40cf579e7",
   "metadata": {},
   "outputs": [],
   "source": [
    "x['age']=x['age']**0.5\n",
    "x['km_driven']=x['km_driven']**2\n",
    "from sklearn.model_selection import train_test_split\n",
    "x=data.drop(['selling_price'],axis=1)\n",
    "y=data['selling_price']"
   ]
  },
  {
   "cell_type": "code",
   "execution_count": 238,
   "id": "2b37b30c-8e4e-443d-89de-48a9026f8c0f",
   "metadata": {},
   "outputs": [
    {
     "name": "stdout",
     "output_type": "stream",
     "text": [
      "(3472, 41)  (3472,) \n",
      "(868, 41) (868,)\n"
     ]
    }
   ],
   "source": [
    "xtrain, xtest,ytrain,ytest=train_test_split(x,y,test_size=0.2, random_state=42)\n",
    "print(f\"{xtrain.shape}  {ytrain.shape} \")\n",
    "print(f\"{xtest.shape} {ytest.shape}\")"
   ]
  },
  {
   "cell_type": "code",
   "execution_count": 239,
   "id": "f48eaca1-478e-43cf-9bf3-c592887b5001",
   "metadata": {},
   "outputs": [
    {
     "name": "stdout",
     "output_type": "stream",
     "text": [
      "r2 score is:0.5299037175128907\n",
      " RMSE is: 378760.3688532851\n"
     ]
    }
   ],
   "source": [
    "from sklearn.linear_model import LinearRegression\n",
    "from sklearn import metrics\n",
    "lrmodel = LinearRegression()\n",
    "lrmodel.fit(xtrain, ytrain)\n",
    "lrpred=lrmodel.predict(xtest)\n",
    "print(f\"r2 score is:{metrics.r2_score(ytest,lrpred)}\")\n",
    "print(f\" RMSE is: {np.sqrt(metrics.mean_squared_error(ytest,lrpred))}\")"
   ]
  },
  {
   "cell_type": "code",
   "execution_count": 240,
   "id": "8c17d106-a8a6-441d-8ade-aaf8c4a9ab4d",
   "metadata": {},
   "outputs": [],
   "source": [
    "from sklearn.preprocessing import StandardScaler\n",
    "scaler = StandardScaler()\n",
    "xtrscaled=scaler.fit_transform(xtrain)\n",
    "xtescaled=scaler.fit_transform(xtest)"
   ]
  },
  {
   "cell_type": "code",
   "execution_count": 241,
   "id": "f8862bf0-1785-47d6-8648-2b6528063e45",
   "metadata": {},
   "outputs": [
    {
     "name": "stdout",
     "output_type": "stream",
     "text": [
      "r2 score is:0.4908777481896309\n",
      " RMSE is: 394168.72432624944\n"
     ]
    }
   ],
   "source": [
    "lrmodel.fit(xtrscaled,ytrain)\n",
    "scaledpred=lrmodel.predict(xtescaled)\n",
    "print(f\"r2 score is:{metrics.r2_score(ytest,scaledpred)}\")\n",
    "print(f\" RMSE is: {np.sqrt(metrics.mean_squared_error(ytest,scaledpred))}\")"
   ]
  },
  {
   "cell_type": "code",
   "execution_count": 242,
   "id": "30255425-00fc-4e34-87de-ced12b5cb546",
   "metadata": {},
   "outputs": [
    {
     "name": "stdout",
     "output_type": "stream",
     "text": [
      "(3472, 41)  (3472,) \n",
      "(868, 41) (868,)\n",
      "r2 score is:0.5299037175128907\n",
      " RMSE is: 378760.3688532851\n"
     ]
    }
   ],
   "source": [
    "\n",
    "\n",
    "xtrain, xtest,ytrain,ytest=train_test_split(x,y,test_size=0.2, random_state=42)\n",
    "print(f\"{xtrain.shape}  {ytrain.shape} \")\n",
    "print(f\"{xtest.shape} {ytest.shape}\")\n",
    "lrmodel = LinearRegression()\n",
    "lrmodel.fit(xtrain, ytrain)\n",
    "lrpred=lrmodel.predict(xtest)\n",
    "print(f\"r2 score is:{metrics.r2_score(ytest,lrpred)}\")\n",
    "print(f\" RMSE is: {np.sqrt(metrics.mean_squared_error(ytest,lrpred))}\")"
   ]
  },
  {
   "cell_type": "markdown",
   "id": "8163a52b-163b-4726-9d38-c98d0ab06158",
   "metadata": {},
   "source": [
    "The error value is not quite good and also the r2 score is low so I made a neural network hoping this would fit the data well instead of underfitting it. I used different number of layers with different number of units"
   ]
  },
  {
   "cell_type": "code",
   "execution_count": 243,
   "id": "58d915f9-7aa7-49af-94cb-c4339f527697",
   "metadata": {},
   "outputs": [
    {
     "name": "stdout",
     "output_type": "stream",
     "text": [
      "\u001b[1m28/28\u001b[0m \u001b[32m━━━━━━━━━━━━━━━━━━━━\u001b[0m\u001b[37m\u001b[0m \u001b[1m0s\u001b[0m 5ms/step\n",
      "R2 Score (Neural Network): 0.7310604453086853\n",
      "RMSE (Neural Network): 286482.74469503394\n",
      "\n"
     ]
    },
    {
     "data": {
      "image/png": "[encoded data removed]",
      "text/plain": [
       "<Figure size 1000x600 with 1 Axes>"
      ]
     },
     "metadata": {},
     "output_type": "display_data"
    }
   ],
   "source": [
    "import tensorflow as tf\n",
    "from tensorflow.keras.models import Sequential\n",
    "from tensorflow.keras.layers import Dense\n",
    "from tensorflow.keras.optimizers import Adam\n",
    "from tensorflow.keras.callbacks import EarlyStopping\n",
    "\n",
    "custom_optimizer = Adam(learning_rate=0.07)\n",
    "neural = Sequential([\n",
    "     Dense(units=256, activation='relu'),\n",
    "     Dense(units=128, activation='relu'),\n",
    "    Dense(units=64, activation='relu'),\n",
    "    Dense(units=32, activation='relu'),\n",
    "    Dense(units=16, activation='relu'),\n",
    "    Dense(units=1)\n",
    "])\n",
    "\n",
    "neural.compile(optimizer=custom_optimizer, loss='mean_squared_error')\n",
    "early_stopping = EarlyStopping(\n",
    "    monitor='val_loss',\n",
    "    patience=10,\n",
    "    restore_best_weights=True\n",
    ")\n",
    "\n",
    "\n",
    "\n",
    "history = neural.fit(\n",
    "    xtrscaled,\n",
    "    ytrain,\n",
    "    epochs=200,\n",
    "    validation_split=0.2,\n",
    "    callbacks=[early_stopping], \n",
    "    verbose=0\n",
    ")\n",
    "npred=neural.predict(xtescaled).flatten()\n",
    "import matplotlib.pyplot as plt\n",
    "plt.figure(figsize=(10, 6))\n",
    "plt.scatter(ytest, npred, alpha=0.5)\n",
    "plt.xlabel('Actual Price (y_test)')\n",
    "plt.ylabel('Predicted Price (npred)')\n",
    "plt.title('Actual vs. Predicted Car Prices')\n",
    "\n",
    "r2_score = metrics.r2_score(ytest, npred)\n",
    "rmse = np.sqrt(metrics.mean_squared_error(ytest, npred))\n",
    "\n",
    "print(f\"R2 Score (Neural Network): {r2_score}\")\n",
    "print(f\"RMSE (Neural Network): {rmse}\\n\")"
   ]
  },
  {
   "cell_type": "code",
   "execution_count": null,
   "id": "4195f4f4-dfe7-4386-80c1-21773a18b8bd",
   "metadata": {},
   "outputs": [],
   "source": []
  },
  {
   "cell_type": "code",
   "execution_count": null,
   "id": "b4a0df9c-d3cd-482f-abd8-548a88ec51cf",
   "metadata": {},
   "outputs": [],
   "source": []
  }
 ],
 "metadata": {
  "kernelspec": {
   "display_name": "Python 3 (ipykernel)",
   "language": "python",
   "name": "python3"
  },
  "language_info": {
   "codemirror_mode": {
    "name": "ipython",
    "version": 3
   },
   "file_extension": ".py",
   "mimetype": "text/x-python",
   "name": "python",
   "nbconvert_exporter": "python",
   "pygments_lexer": "ipython3",
   "version": "3.11.7"
  }
 },
 "nbformat": 4,
 "nbformat_minor": 5
}
